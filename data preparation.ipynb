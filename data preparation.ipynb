{
 "cells": [
  {
   "cell_type": "code",
   "execution_count": 245,
   "metadata": {},
   "outputs": [],
   "source": [
    "import numpy as np\n",
    "import pandas as pd\n",
    "import matplotlib.pyplot as plt\n",
    "import seaborn as sns\n",
    "\n",
    "%matplotlib inline\n",
    "color = sns.color_palette()\n",
    "sns.set_style('darkgrid')\n",
    "\n",
    "import warnings\n",
    "def ignore_warn(*args, **kwargs):\n",
    "    pass\n",
    "warnings.warn = ignore_warn \n",
    "\n",
    "\n",
    "pd.set_option('display.float_format', lambda x: '{:.3f}'.format(x))"
   ]
  },
  {
   "cell_type": "code",
   "execution_count": 246,
   "metadata": {},
   "outputs": [],
   "source": [
    "train = pd.read_csv(\"input/recipeData.csv\", encoding='latin-1')"
   ]
  },
  {
   "cell_type": "code",
   "execution_count": 247,
   "metadata": {},
   "outputs": [],
   "source": [
    "train = train[['Style', 'OG', 'FG', 'ABV', 'IBU', 'Color', 'BoilTime', 'BoilGravity']]"
   ]
  },
  {
   "cell_type": "code",
   "execution_count": 248,
   "metadata": {},
   "outputs": [
    {
     "data": {
      "text/plain": [
       "(73861, 8)"
      ]
     },
     "execution_count": 248,
     "metadata": {},
     "output_type": "execute_result"
    }
   ],
   "source": [
    "train.shape"
   ]
  },
  {
   "cell_type": "code",
   "execution_count": 249,
   "metadata": {
    "scrolled": true
   },
   "outputs": [
    {
     "name": "stdout",
     "output_type": "stream",
     "text": [
      "Style is null on 596 rows out of 73861, so 0.81 % of the time\n",
      "OG is null on 0 rows out of 73861, so 0.0 % of the time\n",
      "FG is null on 0 rows out of 73861, so 0.0 % of the time\n",
      "ABV is null on 0 rows out of 73861, so 0.0 % of the time\n",
      "IBU is null on 0 rows out of 73861, so 0.0 % of the time\n",
      "Color is null on 0 rows out of 73861, so 0.0 % of the time\n",
      "BoilTime is null on 0 rows out of 73861, so 0.0 % of the time\n",
      "BoilGravity is null on 2990 rows out of 73861, so 4.05 % of the time\n"
     ]
    }
   ],
   "source": [
    "for col in train.columns.values:\n",
    "    null_priming = train[col].isnull()\n",
    "    print('{} is null on {} rows out of {}, so {} % of the time'.format(col, null_priming.sum(), len(train), round((null_priming.sum()/len(train))*100,2)))"
   ]
  },
  {
   "cell_type": "code",
   "execution_count": 228,
   "metadata": {},
   "outputs": [],
   "source": [
    "train[\"BoilGravity\"].fillna(train['BoilGravity'].median(), inplace=True)"
   ]
  },
  {
   "cell_type": "code",
   "execution_count": 230,
   "metadata": {},
   "outputs": [],
   "source": [
    "train.dropna(inplace = True)"
   ]
  },
  {
   "cell_type": "code",
   "execution_count": 232,
   "metadata": {},
   "outputs": [
    {
     "data": {
      "text/plain": [
       "array(['Cream Ale', 'Holiday/Winter Special Spiced Beer', 'American IPA',\n",
       "       'Belgian Blond Ale', 'American Pale Ale', 'Imperial IPA',\n",
       "       'Robust Porter', 'Bohemian Pilsener', 'Saison',\n",
       "       'Northern English Brown', 'English IPA', 'Traditional Bock',\n",
       "       'Premium American Lager', 'Belgian Golden Strong Ale',\n",
       "       'Double IPA', 'Blonde Ale', 'Light American Lager',\n",
       "       'German Pilsner (Pils)', 'American Brown Ale', 'Oatmeal Stout',\n",
       "       'Specialty Beer', 'American Amber Ale', 'Kölsch', 'Witbier',\n",
       "       'Weizen/Weissbier', 'Trappist Single', 'Russian Imperial Stout',\n",
       "       'Specialty IPA: Black IPA', 'Sweet Stout', 'Strong Scotch Ale',\n",
       "       'Belgian Tripel', 'American Stout', 'Belgian Pale Ale',\n",
       "       'Dark American Lager', 'Dry Stout', 'Belgian Dark Strong Ale',\n",
       "       'American Wheat or Rye Beer', 'Vienna Lager',\n",
       "       'Special/Best/Premium Bitter', 'Experimental Beer',\n",
       "       'Irish Red Ale', 'Old Ale', 'Extra Special/Strong Bitter (ESB)',\n",
       "       'Winter Seasonal Beer', 'Standard American Lager',\n",
       "       'Wood-Aged Beer', 'Fruit Beer', 'British Golden Ale',\n",
       "       'Flanders Red Ale', 'Berliner Weisse', 'Oktoberfest/Märzen',\n",
       "       'Munich Helles', 'Classic American Pilsner', 'Gueuze',\n",
       "       'Brown Porter', 'American Light Lager', 'English Cider',\n",
       "       'Fruit Cider', 'Altbier', 'Spice  Herb  or Vegetable Beer',\n",
       "       'Southern English Brown', 'Other Smoked Beer', 'Belgian Dubbel',\n",
       "       'Cyser (Apple Melomel)', 'Metheglin', 'Specialty IPA: Red IPA',\n",
       "       'Belgian Specialty Ale', 'Foreign Extra Stout', 'Braggot',\n",
       "       'Weizenbock', 'International Pale Lager', 'Common Cider',\n",
       "       'Imperial Stout', 'Strong Bitter', 'Dusseldorf Altbier',\n",
       "       'Bière de Garde', 'Dunkelweizen', 'Schwarzbier', 'Baltic Porter',\n",
       "       'Doppelbock', 'American Barleywine',\n",
       "       'Other Specialty Cider or Perry', 'Specialty IPA: White IPA',\n",
       "       'Mild', 'California Common Beer', 'American Wheat Beer',\n",
       "       'British Strong Ale', 'Other Fruit Melomel', 'Classic Rauchbier',\n",
       "       'Märzen', 'American Lager', 'Wee Heavy', 'Dry Mead',\n",
       "       'British Brown Ale', 'Weissbier', 'Clone Beer', 'Best Bitter',\n",
       "       'Standard/Ordinary Bitter', 'Czech Premium Pale Lager',\n",
       "       'Mixed-Fermentation Sour Beer', 'Scottish Heavy 70/-',\n",
       "       'English Porter', 'Czech Dark Lager',\n",
       "       'Roggenbier (German Rye Beer)', 'Gose', 'Fruit Lambic',\n",
       "       'Sweet Mead', 'Australian Sparkling Ale', 'Maibock/Helles Bock',\n",
       "       'American Strong Ale', 'Specialty IPA: Belgian IPA',\n",
       "       'Mixed-Style Beer', 'North German Altbier', 'American Porter',\n",
       "       'Dortmunder Export', 'German Pils', 'Irish Stout',\n",
       "       'English Barleywine', 'Specialty IPA: Rye IPA', 'Scottish Export',\n",
       "       'Scottish Export 80/-', 'Tropical Stout', 'Eisbock',\n",
       "       'Semi-Sweet Mead', 'French Cider', 'Munich Dunkel',\n",
       "       'Specialty Smoked Beer', 'Open Category Mead',\n",
       "       'Wild Specialty Beer', 'Apple Wine', 'Czech Pale Lager',\n",
       "       'California Common', 'Flanders Brown Ale/Oud Bruin',\n",
       "       'International Amber Lager', 'Alternative Grain Beer',\n",
       "       'Scottish Light 60/-', 'Helles Bock', 'Lambic',\n",
       "       'Pre-Prohibition Lager', 'Ordinary Bitter', 'Wheatwine',\n",
       "       'Dunkles Weissbier', 'Straight (Unblended) Lambic',\n",
       "       'Kentucky Common', 'New England Cider', 'Pyment (Grape Melomel)',\n",
       "       'Lichtenhainer', 'Irish Extra Stout', 'Rauchbier',\n",
       "       'Specialty IPA: Brown IPA', 'Kellerbier: Amber Kellerbier',\n",
       "       'Sahti', 'Oud Bruin', 'Piwo Grodziskie', 'Specialty Fruit Beer',\n",
       "       'Alternative Sugar Beer', 'Kellerbier: Pale Kellerbier',\n",
       "       'Classic Style Smoked Beer', 'Czech Amber Lager', 'Scottish Heavy',\n",
       "       'Traditional Perry', 'Festbier', 'Brett Beer', 'Dark Mild',\n",
       "       'London Brown Ale', 'Fruit and Spice Beer',\n",
       "       'German Helles Exportbier', 'Autumn Seasonal Beer',\n",
       "       'International Dark Lager', 'Roggenbier', 'Dunkles Bock',\n",
       "       'German Leichtbier', 'Scottish Light', 'Pre-Prohibition Porter',\n",
       "       'Specialty Wood-Aged Beer'], dtype=object)"
      ]
     },
     "execution_count": 232,
     "metadata": {},
     "output_type": "execute_result"
    }
   ],
   "source": [
    "train[\"Style\"].unique()\n"
   ]
  },
  {
   "cell_type": "code",
   "execution_count": 233,
   "metadata": {},
   "outputs": [],
   "source": [
    "IPA = train[train[\"Style\"].str.contains(\"IPA\")]\n",
    "Ale = train[train[\"Style\"].str.contains(\"Ale\")]\n",
    "Lager = train[train[\"Style\"].str.contains(\"Lager\")]\n",
    "Porter = train[train[\"Style\"].str.contains(\"Porter\")]\n",
    "Saison = train[train[\"Style\"].str.contains(\"Saison\")]\n",
    "Stout = train[train[\"Style\"].str.contains(\"Stout\")]\n",
    "Witbier = train[train[\"Style\"].str.contains(\"Witbier\")]"
   ]
  },
  {
   "cell_type": "code",
   "execution_count": 234,
   "metadata": {
    "scrolled": true
   },
   "outputs": [],
   "source": [
    "IPA[\"Style\"].replace(['Imperial IPA', 'American IPA', 'English IPA', 'Double IPA',\n",
    "       'Specialty IPA: Black IPA', 'Specialty IPA: Red IPA',\n",
    "       'Specialty IPA: White IPA', 'Specialty IPA: Belgian IPA',\n",
    "       'Specialty IPA: Rye IPA', 'Specialty IPA: Brown IPA'], \"IPA\", inplace=True)"
   ]
  },
  {
   "cell_type": "code",
   "execution_count": 235,
   "metadata": {},
   "outputs": [],
   "source": [
    "Ale.Style.unique()\n",
    "Ale[\"Style\"].replace(['Cream Ale', 'Belgian Blond Ale', 'American Pale Ale',\n",
    "       'Belgian Golden Strong Ale', 'Blonde Ale', 'American Brown Ale',\n",
    "       'American Amber Ale', 'Strong Scotch Ale', 'Belgian Pale Ale',\n",
    "       'Belgian Dark Strong Ale', 'Old Ale', 'British Golden Ale',\n",
    "       'Flanders Red Ale', 'Irish Red Ale', 'Belgian Specialty Ale',\n",
    "       'British Strong Ale', 'British Brown Ale',\n",
    "       'Australian Sparkling Ale', 'American Strong Ale',\n",
    "       'Flanders Brown Ale/Oud Bruin', 'London Brown Ale'], \"Ale\", inplace=True)"
   ]
  },
  {
   "cell_type": "code",
   "execution_count": 236,
   "metadata": {},
   "outputs": [],
   "source": [
    "Lager.Style.unique()\n",
    "Lager[\"Style\"].replace(['Premium American Lager', 'Light American Lager', 'Vienna Lager',\n",
    "       'American Light Lager', 'International Pale Lager',\n",
    "       'American Lager', 'Dark American Lager',\n",
    "       'Czech Premium Pale Lager', 'Czech Dark Lager',\n",
    "       'Standard American Lager', 'Czech Pale Lager',\n",
    "       'International Amber Lager', 'Pre-Prohibition Lager',\n",
    "       'Czech Amber Lager', 'International Dark Lager'], \"Lager\", inplace=True)"
   ]
  },
  {
   "cell_type": "code",
   "execution_count": 237,
   "metadata": {},
   "outputs": [],
   "source": [
    "Porter.Style.unique()\n",
    "Porter[\"Style\"].replace(['Robust Porter', 'Brown Porter', 'Baltic Porter', 'English Porter',\n",
    "       'American Porter', 'Pre-Prohibition Porter'], \"Porter\", inplace=True)"
   ]
  },
  {
   "cell_type": "code",
   "execution_count": 238,
   "metadata": {},
   "outputs": [
    {
     "data": {
      "text/plain": [
       "array(['Saison'], dtype=object)"
      ]
     },
     "execution_count": 238,
     "metadata": {},
     "output_type": "execute_result"
    }
   ],
   "source": [
    "Saison[\"Style\"].unique()"
   ]
  },
  {
   "cell_type": "code",
   "execution_count": 239,
   "metadata": {},
   "outputs": [],
   "source": [
    "Stout[\"Style\"].unique()\n",
    "Stout[\"Style\"].replace(['Oatmeal Stout', 'Russian Imperial Stout', 'Sweet Stout',\n",
    "       'Dry Stout', 'American Stout', 'Foreign Extra Stout',\n",
    "       'Imperial Stout', 'Irish Stout', 'Tropical Stout',\n",
    "       'Irish Extra Stout'], \"Stout\", inplace=True)"
   ]
  },
  {
   "cell_type": "code",
   "execution_count": 240,
   "metadata": {},
   "outputs": [
    {
     "data": {
      "text/plain": [
       "array(['Witbier'], dtype=object)"
      ]
     },
     "execution_count": 240,
     "metadata": {},
     "output_type": "execute_result"
    }
   ],
   "source": [
    "Witbier.Style.unique()"
   ]
  },
  {
   "cell_type": "code",
   "execution_count": 241,
   "metadata": {},
   "outputs": [],
   "source": [
    "new_train_df = pd.concat([Witbier, Saison, Stout, Porter, Lager, Ale, IPA], axis=0)"
   ]
  },
  {
   "cell_type": "code",
   "execution_count": 168,
   "metadata": {},
   "outputs": [
    {
     "data": {
      "text/plain": [
       "array(['Witbier', 'Saison', 'Stout', 'Porter', 'Lager', 'Ale', 'IPA'],\n",
       "      dtype=object)"
      ]
     },
     "execution_count": 168,
     "metadata": {},
     "output_type": "execute_result"
    }
   ],
   "source": [
    "new_train_df[\"Style\"].unique()"
   ]
  },
  {
   "cell_type": "code",
   "execution_count": 243,
   "metadata": {},
   "outputs": [],
   "source": [
    "new_train_df.to_csv(\"output/new_data.csv\")"
   ]
  },
  {
   "cell_type": "code",
   "execution_count": 244,
   "metadata": {},
   "outputs": [
    {
     "data": {
      "text/plain": [
       "(52376, 8)"
      ]
     },
     "execution_count": 244,
     "metadata": {},
     "output_type": "execute_result"
    }
   ],
   "source": [
    "new_train_df.shape"
   ]
  }
 ],
 "metadata": {
  "kernelspec": {
   "display_name": "Python 3",
   "language": "python",
   "name": "python3"
  },
  "language_info": {
   "codemirror_mode": {
    "name": "ipython",
    "version": 3
   },
   "file_extension": ".py",
   "mimetype": "text/x-python",
   "name": "python",
   "nbconvert_exporter": "python",
   "pygments_lexer": "ipython3",
   "version": "3.7.2"
  }
 },
 "nbformat": 4,
 "nbformat_minor": 2
}
